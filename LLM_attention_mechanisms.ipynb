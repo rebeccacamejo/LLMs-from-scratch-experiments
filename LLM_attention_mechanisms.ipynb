{
 "cells": [
  {
   "attachments": {},
   "cell_type": "markdown",
   "metadata": {},
   "source": [
    "# Chapter 3 - Attention: From Single Head to Multi head\n",
    "\n",
    "This notebook teaches and tests LLMs from Scratch Chapter 3 concepts (attention, casual masking, multi-head) with clean Pytorch. It includes explanations and exercises with solutions. "
   ]
  },
  {
   "cell_type": "code",
   "execution_count": null,
   "metadata": {},
   "outputs": [],
   "source": [
    "import math\n",
    "import torch, torch.nn as nn, torch.nn.functional as F\n",
    "import matplotlib.pyplot as plt\n",
    "\n",
    "torch.manual_seed(42)\n",
    "device = torch.device(\"cuda\" if torch.cuda_is_available() else \"cpu\")\n",
    "device"
   ]
  },
  {
   "attachments": {},
   "cell_type": "markdown",
   "metadata": {},
   "source": [
    "# Mental Model\n",
    "- Embeddings (B, T, d_model) project to Queries (Q), Keys (K), Values (V)\n",
    "- scaled dot-product attention is the softmax((Q K^T)/sqrt(d_head)) V\n",
    "- casual mask (lower-triangular) to prevent looking ahead\n",
    "- multi-head is to split channels into heads, attend in parallel, concat, and project"
   ]
  },
  {
   "cell_type": "code",
   "execution_count": null,
   "metadata": {},
   "outputs": [],
   "source": [
    "# The embedding matrix learns a semantic space so similar tokens are nearby.\n",
    "\n",
    "B, T, d_model = 2, 6, 48\n",
    "x = torch.randn(B, T, d_model, device=device)\n",
    "x.shape"
   ]
  },
  {
   "attachments": {},
   "cell_type": "markdown",
   "metadata": {},
   "source": [
    "# Q, K, V \n",
    "- W_Q: how to **ask** (what features to look for)\n",
    "- W_K: how to **advertise** (what features the token contains)\n",
    "- W_V: what to **carry** (content to pass along)\n"
   ]
  },
  {
   "cell_type": "code",
   "execution_count": null,
   "metadata": {},
   "outputs": [],
   "source": []
  }
 ],
 "metadata": {
  "kernelspec": {
   "display_name": "Python 3",
   "language": "python",
   "name": "python3"
  },
  "language_info": {
   "codemirror_mode": {
    "name": "ipython",
    "version": 3
   },
   "file_extension": ".py",
   "mimetype": "text/x-python",
   "name": "python",
   "nbconvert_exporter": "python",
   "pygments_lexer": "ipython3",
   "version": "3.11.9"
  },
  "orig_nbformat": 4,
  "vscode": {
   "interpreter": {
    "hash": "aee8b7b246df8f9039afb4144a1f6fd8d2ca17a180786b69acc140d282b71a49"
   }
  }
 },
 "nbformat": 4,
 "nbformat_minor": 2
}
